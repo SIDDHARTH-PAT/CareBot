{
  "cells": [
    {
      "cell_type": "code",
      "execution_count": 7,
      "id": "consistent-coverage",
      "metadata": {
        "_cell_guid": "b1076dfc-b9ad-4769-8c92-a6c4dae69d19",
        "_uuid": "8f2839f25d086af736a60e9eeb907d3b93b6e0e5",
        "execution": {
          "iopub.execute_input": "2021-05-14T10:12:49.384261Z",
          "iopub.status.busy": "2021-05-14T10:12:49.383097Z",
          "iopub.status.idle": "2021-05-14T10:12:49.408533Z",
          "shell.execute_reply": "2021-05-14T10:12:49.409037Z"
        },
        "id": "consistent-coverage",
        "papermill": {
          "duration": 0.045597,
          "end_time": "2021-05-14T10:12:49.409341",
          "exception": false,
          "start_time": "2021-05-14T10:12:49.363744",
          "status": "completed"
        },
        "tags": []
      },
      "outputs": [
        {
          "ename": "ModuleNotFoundError",
          "evalue": "No module named 'numpy'",
          "output_type": "error",
          "traceback": [
            "\u001b[1;31m---------------------------------------------------------------------------\u001b[0m",
            "\u001b[1;31mModuleNotFoundError\u001b[0m                       Traceback (most recent call last)",
            "Cell \u001b[1;32mIn[7], line 1\u001b[0m\n\u001b[1;32m----> 1\u001b[0m \u001b[39mimport\u001b[39;00m \u001b[39mnumpy\u001b[39;00m \u001b[39mas\u001b[39;00m \u001b[39mnp\u001b[39;00m \u001b[39m# linear algebra\u001b[39;00m\n\u001b[0;32m      2\u001b[0m \u001b[39mimport\u001b[39;00m \u001b[39mpandas\u001b[39;00m \u001b[39mas\u001b[39;00m \u001b[39mpd\u001b[39;00m \u001b[39m# data processing, CSV file I/O (e.g. pd.read_csv)\u001b[39;00m\n",
            "\u001b[1;31mModuleNotFoundError\u001b[0m: No module named 'numpy'"
          ]
        }
      ],
      "source": [
        "import numpy as np # linear algebra\n",
        "import pandas as pd # data processing, CSV file I/O (e.g. pd.read_csv)"
      ]
    },
    {
      "cell_type": "code",
      "execution_count": null,
      "id": "reduced-jesus",
      "metadata": {
        "colab": {
          "base_uri": "https://localhost:8080/"
        },
        "execution": {
          "iopub.execute_input": "2021-05-14T10:12:49.444884Z",
          "iopub.status.busy": "2021-05-14T10:12:49.444224Z",
          "iopub.status.idle": "2021-05-14T10:12:57.756529Z",
          "shell.execute_reply": "2021-05-14T10:12:57.755650Z"
        },
        "id": "reduced-jesus",
        "outputId": "8b57cf3b-c941-4cfd-df6a-4fba3a2092d5",
        "papermill": {
          "duration": 8.33158,
          "end_time": "2021-05-14T10:12:57.756714",
          "exception": false,
          "start_time": "2021-05-14T10:12:49.425134",
          "status": "completed"
        },
        "tags": []
      },
      "outputs": [
        {
          "name": "stdout",
          "output_type": "stream",
          "text": [
            "Looking in indexes: https://pypi.org/simple, https://us-python.pkg.dev/colab-wheels/public/simple/\n",
            "Collecting google_trans_new\n",
            "  Downloading google_trans_new-1.1.9-py3-none-any.whl (9.2 kB)\n",
            "Installing collected packages: google_trans_new\n",
            "Successfully installed google_trans_new-1.1.9\n"
          ]
        }
      ],
      "source": [
        "pip install google_trans_new"
      ]
    },
    {
      "cell_type": "code",
      "execution_count": null,
      "id": "speaking-blast",
      "metadata": {
        "colab": {
          "base_uri": "https://localhost:8080/"
        },
        "execution": {
          "iopub.execute_input": "2021-05-14T10:12:57.805401Z",
          "iopub.status.busy": "2021-05-14T10:12:57.804681Z",
          "iopub.status.idle": "2021-05-14T10:13:04.787994Z",
          "shell.execute_reply": "2021-05-14T10:13:04.787417Z"
        },
        "id": "speaking-blast",
        "outputId": "c16e09fa-ad00-4c1c-89cd-e613049779c7",
        "papermill": {
          "duration": 7.013221,
          "end_time": "2021-05-14T10:13:04.788156",
          "exception": false,
          "start_time": "2021-05-14T10:12:57.774935",
          "status": "completed"
        },
        "tags": []
      },
      "outputs": [
        {
          "name": "stdout",
          "output_type": "stream",
          "text": [
            "Looking in indexes: https://pypi.org/simple, https://us-python.pkg.dev/colab-wheels/public/simple/\n",
            "Collecting pyttsx3\n",
            "  Downloading pyttsx3-2.90-py3-none-any.whl (39 kB)\n",
            "Installing collected packages: pyttsx3\n",
            "Successfully installed pyttsx3-2.90\n"
          ]
        }
      ],
      "source": [
        "pip install pyttsx3"
      ]
    },
    {
      "cell_type": "code",
      "execution_count": null,
      "id": "gIMc31U0hHcE",
      "metadata": {
        "colab": {
          "base_uri": "https://localhost:8080/"
        },
        "id": "gIMc31U0hHcE",
        "outputId": "7edf4b7a-1361-44e8-e6df-1b85c7ae44cd"
      },
      "outputs": [
        {
          "name": "stdout",
          "output_type": "stream",
          "text": [
            "Mounted at /content/drive\n"
          ]
        }
      ],
      "source": []
    },
    {
      "cell_type": "code",
      "execution_count": null,
      "id": "6okaFth0hpHZ",
      "metadata": {
        "id": "6okaFth0hpHZ"
      },
      "outputs": [],
      "source": []
    },
    {
      "cell_type": "code",
      "execution_count": null,
      "id": "fantastic-evaluation",
      "metadata": {
        "colab": {
          "base_uri": "https://localhost:8080/"
        },
        "execution": {
          "iopub.execute_input": "2021-05-14T10:13:04.837225Z",
          "iopub.status.busy": "2021-05-14T10:13:04.836340Z",
          "iopub.status.idle": "2021-05-14T10:13:06.483694Z",
          "shell.execute_reply": "2021-05-14T10:13:06.484613Z"
        },
        "id": "fantastic-evaluation",
        "outputId": "48b0f224-8afe-4865-aac3-edb4037f4d77",
        "papermill": {
          "duration": 1.677852,
          "end_time": "2021-05-14T10:13:06.484903",
          "exception": false,
          "start_time": "2021-05-14T10:13:04.807051",
          "status": "completed"
        },
        "tags": []
      },
      "outputs": [
        {
          "name": "stdout",
          "output_type": "stream",
          "text": [
            "0.9747586015601376\n"
          ]
        }
      ],
      "source": [
        "import pandas as pd\n",
        "import pyttsx3\n",
        "from sklearn import preprocessing\n",
        "from sklearn.tree import DecisionTreeClassifier,_tree\n",
        "import numpy as np\n",
        "from sklearn.model_selection import train_test_split\n",
        "from sklearn.model_selection import cross_val_score\n",
        "from sklearn.svm import SVC\n",
        "import csv\n",
        "import warnings\n",
        "warnings.filterwarnings(\"ignore\", category=DeprecationWarning)\n",
        "from google_trans_new import google_translator  \n",
        "translator = google_translator() \n",
        "\n",
        "training = pd.read_csv('./dataset/Training.csv')\n",
        "testing= pd.read_csv('./dataset/Testing.csv')\n",
        "\n",
        "cols= training.columns\n",
        "cols= cols[:-1]\n",
        "x = training[cols]\n",
        "y = training['prognosis']\n",
        "y1= y\n",
        "\n",
        "\n",
        "reduced_data = training.groupby(training['prognosis']).max()\n",
        "\n",
        "#mapping strings to numbers\n",
        "le = preprocessing.LabelEncoder()\n",
        "le.fit(y)\n",
        "y = le.transform(y)\n",
        "\n",
        "\n",
        "x_train, x_test, y_train, y_test = train_test_split(x, y, test_size=0.33, random_state=42)\n",
        "testx    = testing[cols]\n",
        "testy    = testing['prognosis']  \n",
        "testy    = le.transform(testy)\n",
        "\n",
        "\n",
        "\n",
        "clf1  = DecisionTreeClassifier()\n",
        "clf = clf1.fit(x_train,y_train)\n",
        "# print(clf.score(x_train,y_train))\n",
        "# print (\"cross result========\")\n",
        "scores = cross_val_score(clf, x_test, y_test, cv=3) # cv****\n",
        "# print (scores)\n",
        "print (scores.mean())\n",
        "\n",
        "importances = clf.feature_importances_\n",
        "indices = np.argsort(importances)[::-1]\n",
        "features = cols\n",
        "\n",
        "def readn(nstr):\n",
        "    engine = pyttsx3.init()\n",
        "\n",
        "    engine.setProperty('voice', \"english+f5\")\n",
        "    engine.setProperty('rate', 130)\n",
        "\n",
        "    engine.say(nstr)\n",
        "    engine.runAndWait()\n",
        "    engine.stop()\n",
        "\n",
        "\n",
        "severityDictionary=dict()\n",
        "description_list = dict()\n",
        "precautionDictionary=dict()\n",
        "\n",
        "symptoms_dict = {}\n",
        "\n",
        "for index, symptom in enumerate(x):\n",
        "       symptoms_dict[symptom] = index\n",
        "def calc_condition(exp,days):\n",
        "    sum=0\n",
        "    for item in exp:\n",
        "         sum=sum+severityDictionary[item]\n",
        "    if((sum*days)/(len(exp)+1)>13):\n",
        "        print(\"You should take the consultation from doctor. \")\n",
        "    else:\n",
        "        print(\"It might not be that bad but you should take precautions.\")\n",
        "\n",
        "\n",
        "def getDescription():\n",
        "    global description_list\n",
        "    with open('./dataset/symptom_Description.csv') as csv_file:\n",
        "        csv_reader = csv.reader(csv_file, delimiter=',')\n",
        "        line_count = 0\n",
        "        for row in csv_reader:\n",
        "            _description={row[0]:row[1]}\n",
        "            description_list.update(_description)\n",
        "\n",
        "\n",
        "\n",
        "\n",
        "def getSeverityDict():\n",
        "    global severityDictionary\n",
        "    with open('./dataset/Symptom_severity.csv') as csv_file:\n",
        "\n",
        "        csv_reader = csv.reader(csv_file, delimiter=',')\n",
        "        line_count = 0\n",
        "        try:\n",
        "            for row in csv_reader:\n",
        "                _diction={row[0]:int(row[1])}\n",
        "                severityDictionary.update(_diction)\n",
        "        except:\n",
        "            pass\n",
        "\n",
        "\n",
        "def getprecautionDict():\n",
        "    global precautionDictionary\n",
        "    with open('./dataset/symptom_precaution.csv') as csv_file:\n",
        "\n",
        "        csv_reader = csv.reader(csv_file, delimiter=',')\n",
        "        line_count = 0\n",
        "        for row in csv_reader:\n",
        "            _prec={row[0]:[row[1],row[2],row[3],row[4]]}\n",
        "            precautionDictionary.update(_prec)\n",
        "\n",
        "\n",
        "def getInfo():\n",
        "    # name=input(\"Name:\")\n",
        "    print(\"please Your Name \\n\\t\\t\\t\\t\\t\\t\")\n",
        "    print(\"कृपया अपना नाम बताएं\",end=\"->\")\n",
        "    name=input(\"\")\n",
        "    print(\"hello \",name)\n",
        "\n",
        "def check_pattern(dis_list,inp):\n",
        "    import re\n",
        "    pred_list=[]\n",
        "    ptr=0\n",
        "    patt = \"^\" + inp + \"$\"\n",
        "    regexp = re.compile(inp)\n",
        "    for item in dis_list:\n",
        "\n",
        "        # print(f\"comparing {inp} to {item}\")##########\n",
        "        if regexp.search(item):\n",
        "            pred_list.append(item)\n",
        "            #return 1,item\n",
        "    if(len(pred_list)>0):\n",
        "        return 1,pred_list\n",
        "    else:\n",
        "        return ptr,item\n",
        "def sec_predict(symptoms_exp):\n",
        "    df = pd.read_csv('./dataset/Training.csv')\n",
        "    X = df.iloc[:, :-1]\n",
        "    y = df['prognosis']\n",
        "    X_train, X_test, y_train, y_test = train_test_split(X, y, test_size=0.3, random_state=20)\n",
        "    rf_clf = DecisionTreeClassifier()\n",
        "    rf_clf.fit(X_train, y_train)\n",
        "\n",
        "    symptoms_dict = {}\n",
        "\n",
        "    for index, symptom in enumerate(X):\n",
        "        symptoms_dict[symptom] = index\n",
        "\n",
        "    input_vector = np.zeros(len(symptoms_dict))\n",
        "    for item in symptoms_exp:\n",
        "        input_vector[[symptoms_dict[item]]] = 1\n",
        "\n",
        "\n",
        "    return rf_clf.predict([input_vector])\n",
        "\n",
        "\n",
        "def print_disease(node):\n",
        "    #print(node)\n",
        "    node = node[0]\n",
        "    #print(len(node))\n",
        "    val  = node.nonzero() \n",
        "    # print(val)\n",
        "    disease = le.inverse_transform(val[0])\n",
        "    return disease\n",
        "def tree_to_code(tree, feature_names):\n",
        "    tree_ = tree.tree_\n",
        "    # print(tree_)\n",
        "    feature_name = [\n",
        "        feature_names[i] if i != _tree.TREE_UNDEFINED else \"undefined!\"\n",
        "        for i in tree_.feature\n",
        "    ]\n",
        "\n",
        "    chk_dis=\",\".join(feature_names).split(\",\")\n",
        "    symptoms_present = []\n",
        "\n",
        "\n",
        "    # conf_inp=int()\n",
        "    while True:\n",
        "\n",
        "        print(\"Enter the symptom you are experiencing  \\n\\t\\t\\t\\t\\t\\t\")\n",
        "        # translate_text = translator.translate('Enter the symptom you are experiencing',lang_tgt='hi')  \n",
        "        # print(translate_text,end=\"->\")\n",
        "        disease_input = input(\"\")\n",
        "        conf,cnf_dis=check_pattern(chk_dis,disease_input)\n",
        "        if conf==1:\n",
        "            print(\"searches related to input: \")\n",
        "            for num,it in enumerate(cnf_dis):\n",
        "                print(num,\")\",it)\n",
        "            if num!=0:\n",
        "                print(f\"Select the one you meant (0 - {num}):  \", end=\"\")\n",
        "                conf_inp = int(input(\"\"))\n",
        "            else:\n",
        "                conf_inp=0\n",
        "\n",
        "            disease_input=cnf_dis[conf_inp]\n",
        "            break\n",
        "            # print(\"Did you mean: \",cnf_dis,\"?(yes/no) :\",end=\"\")\n",
        "            # conf_inp = input(\"\")\n",
        "            # if(conf_inp==\"yes\"):\n",
        "            #     break\n",
        "        else:\n",
        "            print(\"Enter valid symptom.\")\n",
        "            # translate_text = translator.translate('Enter valid symptom.',lang_tgt='hi')\n",
        "            # print(translate_text)\n",
        "\n",
        "    while True:\n",
        "        try:\n",
        "            #translate_text = translator.translate('Okay. From how many days ?',lang_tgt='hi')\n",
        "            num_days=int(input(\"Okay. From how many days ? अच्छा । कितने दिनों से?  : \"))\n",
        "            #num_days=int(input(\"अच्छा । कितने दिनों से? :\" )             \n",
        "            break\n",
        "        except:\n",
        "            print(\"Enter number of days.\")\n",
        "            print(\"दिनों की संख्या दर्ज करें \")             \n",
        "    def recurse(node, depth):\n",
        "        indent = \"  \" * depth\n",
        "        if tree_.feature[node] != _tree.TREE_UNDEFINED:\n",
        "            name = feature_name[node]\n",
        "            threshold = tree_.threshold[node]\n",
        "\n",
        "            if name == disease_input:\n",
        "                val = 1\n",
        "            else:\n",
        "                val = 0\n",
        "            if  val <= threshold:\n",
        "                recurse(tree_.children_left[node], depth + 1)\n",
        "            else:\n",
        "                symptoms_present.append(name)\n",
        "                recurse(tree_.children_right[node], depth + 1)\n",
        "        else:\n",
        "            present_disease = print_disease(tree_.value[node])\n",
        "            # print( \"You may have \" +  present_disease )\n",
        "            red_cols = reduced_data.columns \n",
        "            symptoms_given = red_cols[reduced_data.loc[present_disease].values[0].nonzero()]\n",
        "            # dis_list=list(symptoms_present)\n",
        "            # if len(dis_list)!=0:\n",
        "            #     print(\"symptoms present  \" + str(list(symptoms_present)))\n",
        "            # print(\"symptoms given \"  +  str(list(symptoms_given)) )\n",
        "            print(\"Are you experiencing any \")\n",
        "            print(\"क्या आप कोई अनुभव कर रहे हैं\")\n",
        "            symptoms_exp=[]\n",
        "            for syms in list(symptoms_given):\n",
        "                inp=\"\"\n",
        "                print(syms,\"? : \",end='')\n",
        "                while True:\n",
        "                    inp=input(\"\")\n",
        "                    if(inp==\"yes\" or inp==\"no\"):\n",
        "                        break\n",
        "                    else:\n",
        "                        print(\"provide proper answers i.e. (yes/no) : \")\n",
        "                        print(\"उचित उत्तर प्रदान करें I.E. (yes/no) :\",end=\"\") \n",
        "                if(inp==\"yes\"):\n",
        "                    symptoms_exp.append(syms)\n",
        "\n",
        "            second_prediction=sec_predict(symptoms_exp)\n",
        "            # print(second_prediction)\n",
        "            calc_condition(symptoms_exp,num_days)\n",
        "            if(present_disease[0]==second_prediction[0]):\n",
        "                print(\"You may have \", present_disease[0])\n",
        "                #translate_text = translator.translate(present_disease[0],lang_tgt='hi')\n",
        "                #print(\" शायद आपके पास    \",translate_text)\n",
        "                #translate_text2 = translator.translate(print(description_list[present_disease[0]]),lang_tgt='hi')\n",
        "\n",
        "                print(description_list[present_disease[0]])\n",
        "                #print(translate_text2)\n",
        "\n",
        "                # readn(f\"You may have {present_disease[0]}\")\n",
        "                # readn(f\"{description_list[present_disease[0]]}\")\n",
        "\n",
        "            else:\n",
        "                print(\"You may have \", present_disease[0], \"or \", second_prediction[0])\n",
        "                print(description_list[present_disease[0]])\n",
        "                print(description_list[second_prediction[0]])\n",
        "\n",
        "            # print(description_list[present_disease[0]])\n",
        "            precution_list=precautionDictionary[present_disease[0]]\n",
        "            print(\"Take following measures : \")\n",
        "            for  i,j in enumerate(precution_list):\n",
        "                print(i+1,\")\",j)\n",
        "\n",
        "            confidence_level = (1.0*len(symptoms_present))/len(symptoms_given)\n",
        "            print(\"confidence level is \" + str(confidence_level))\n",
        "\n",
        "    recurse(0, 1)"
      ]
    },
    {
      "cell_type": "code",
      "execution_count": null,
      "id": "PbCw4IQ-aBjM",
      "metadata": {
        "id": "PbCw4IQ-aBjM"
      },
      "outputs": [],
      "source": [
        "import tkinter as tk\n",
        "from tkinter import messagebox"
      ]
    },
    {
      "cell_type": "code",
      "execution_count": null,
      "id": "WoYvR5dEnedW",
      "metadata": {
        "id": "WoYvR5dEnedW"
      },
      "outputs": [],
      "source": [
        "#loading the information\n",
        "\n",
        "getSeverityDict()\n",
        "getDescription()\n",
        "getprecautionDict()\n"
      ]
    },
    {
      "cell_type": "code",
      "execution_count": null,
      "id": "developed-preparation",
      "metadata": {
        "execution": {
          "iopub.execute_input": "2021-05-14T10:13:06.551549Z",
          "iopub.status.busy": "2021-05-14T10:13:06.547103Z",
          "iopub.status.idle": "2021-05-14T10:13:15.046972Z",
          "shell.execute_reply": "2021-05-14T10:13:15.046299Z"
        },
        "id": "developed-preparation",
        "papermill": {
          "duration": 8.538212,
          "end_time": "2021-05-14T10:13:15.047116",
          "exception": false,
          "start_time": "2021-05-14T10:13:06.508904",
          "status": "completed"
        },
        "tags": []
      },
      "outputs": [],
      "source": [
        "# from sklearn import tree\n",
        "# tree.plot_tree(clf) "
      ]
    },
    {
      "cell_type": "code",
      "execution_count": null,
      "id": "following-transportation",
      "metadata": {
        "colab": {
          "base_uri": "https://localhost:8080/"
        },
        "execution": {
          "iopub.execute_input": "2021-05-14T10:13:22.362879Z",
          "iopub.status.busy": "2021-05-14T10:13:22.362207Z",
          "iopub.status.idle": "2021-05-14T10:13:22.390200Z",
          "shell.execute_reply": "2021-05-14T10:13:22.389626Z"
        },
        "id": "following-transportation",
        "outputId": "28ecf015-36c8-42ef-defe-cfc125952c0d",
        "papermill": {
          "duration": 0.062261,
          "end_time": "2021-05-14T10:13:22.390345",
          "exception": false,
          "start_time": "2021-05-14T10:13:22.328084",
          "status": "completed"
        },
        "tags": []
      },
      "outputs": [
        {
          "name": "stdout",
          "output_type": "stream",
          "text": [
            "please Your Name \n",
            "\t\t\t\t\t\t\n",
            "कृपया अपना नाम बताएं->y\n",
            "hello  y\n",
            "Enter the symptom you are experiencing  \n",
            "\t\t\t\t\t\t\n",
            "headache\n",
            "searches related to input: \n",
            "0 ) headache\n",
            "Okay. From how many days ? अच्छा । कितने दिनों से?  : 3\n",
            "Are you experiencing any \n",
            "क्या आप कोई अनुभव कर रहे हैं\n",
            "fatigue ? : yes\n",
            "cramps ? : no\n",
            "bruising ? : no\n",
            "obesity ? : yes\n",
            "swollen_legs ? : no\n",
            "swollen_blood_vessels ? :  no\n",
            "provide proper answers i.e. (yes/no) : \n",
            "उचित उत्तर प्रदान करें I.E. (yes/no) :no\n",
            "prominent_veins_on_calf ? : no\n",
            "It might not be that bad but you should take precautions.\n",
            "You may have  Varicose veins\n",
            "A vein that has enlarged and twisted, often appearing as a bulging, blue blood vessel that is clearly visible through the skin. Varicose veins are most common in older adults, particularly women, and occur especially on the legs.\n",
            "Take following measures : \n",
            "1 ) lie down flat and raise the leg high\n",
            "2 ) use oinments\n",
            "3 ) use vein compression\n",
            "4 ) dont stand still for long\n",
            "confidence level is 0.0\n"
          ]
        },
        {
          "name": "stderr",
          "output_type": "stream",
          "text": [
            "/usr/local/lib/python3.9/dist-packages/sklearn/base.py:439: UserWarning: X does not have valid feature names, but DecisionTreeClassifier was fitted with feature names\n",
            "  warnings.warn(\n"
          ]
        }
      ],
      "source": [
        "# main cell\n",
        "getInfo()\n",
        "tree_to_code(clf,cols)"
      ]
    },
    {
      "cell_type": "markdown",
      "id": "eoyrk05re8H1",
      "metadata": {
        "id": "eoyrk05re8H1"
      },
      "source": [
        "# New Section"
      ]
    },
    {
      "cell_type": "markdown",
      "id": "X2XChPOZtGH4",
      "metadata": {
        "id": "X2XChPOZtGH4"
      },
      "source": [
        "# New Section"
      ]
    }
  ],
  "metadata": {
    "colab": {
      "provenance": [],
      "toc_visible": true
    },
    "kernelspec": {
      "display_name": "Python 3",
      "language": "python",
      "name": "python3"
    },
    "language_info": {
      "codemirror_mode": {
        "name": "ipython",
        "version": 3
      },
      "file_extension": ".py",
      "mimetype": "text/x-python",
      "name": "python",
      "nbconvert_exporter": "python",
      "pygments_lexer": "ipython3",
      "version": "3.11.3"
    },
    "papermill": {
      "default_parameters": {},
      "duration": 70.875138,
      "end_time": "2021-05-14T10:13:52.110990",
      "environment_variables": {},
      "exception": null,
      "input_path": "__notebook__.ipynb",
      "output_path": "__notebook__.ipynb",
      "parameters": {},
      "start_time": "2021-05-14T10:12:41.235852",
      "version": "2.3.3"
    }
  },
  "nbformat": 4,
  "nbformat_minor": 5
}
